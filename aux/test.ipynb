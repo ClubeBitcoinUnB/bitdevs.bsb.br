{
 "cells": [
  {
   "cell_type": "code",
   "execution_count": 4,
   "id": "3b301c84",
   "metadata": {},
   "outputs": [],
   "source": [
    "import dspy\n",
    "import os\n",
    "from typing import Literal\n",
    "\n",
    "from dotenv import load_dotenv\n",
    "\n",
    "load_dotenv()\n",
    "\n",
    "gpt4o = dspy.LM(model=\"openai/gpt-4o-mini\")\n",
    "qwen3 = dspy.LM(\n",
    "    model=\"openrouter/deepseek/deepseek-r1-0528-qwen3-8b\",\n",
    "    api_base=\"https://openrouter.ai/api/v1\",\n",
    "    api_key=os.getenv(\"OPENROUTER_API_KEY\"),\n",
    ")\n",
    "\n",
    "dspy.configure(lm=qwen3)"
   ]
  },
  {
   "cell_type": "code",
   "execution_count": 5,
   "id": "5411aca3",
   "metadata": {},
   "outputs": [],
   "source": [
    "example = \"Whirlpool is back\\n\\nhttps://ashigaru.rs/news/announcement-whirlpool/\"\n",
    "\n",
    "THEMES = Literal['not technical', \n",
    "                 'Bitcoin L1', \n",
    "                 'Lightning and L2', \n",
    "                 'Ecash', \n",
    "                 'Mining', \n",
    "                 'Security', \n",
    "                 'Other']"
   ]
  },
  {
   "cell_type": "code",
   "execution_count": 9,
   "id": "dc4d735d",
   "metadata": {},
   "outputs": [
    {
     "data": {
      "text/plain": [
       "Prediction(\n",
       "    theme='Bitcoin L1',\n",
       "    text_without_link='Whirlpool is back',\n",
       "    link='https://ashigaru.rs/news/announcement-whirlpool/'\n",
       ")"
      ]
     },
     "execution_count": 9,
     "metadata": {},
     "output_type": "execute_result"
    }
   ],
   "source": [
    "get_theme_text_link = dspy.Predict(\"comment: str -> theme: THEMES, text_without_link: str, link: str\", \n",
    "    instructions=\"Infer theme of the comment, and return exact text and link of the comment as they are, without any changes.\")\n",
    "\n",
    "get_theme_text_link(comment=example)\n"
   ]
  },
  {
   "cell_type": "code",
   "execution_count": null,
   "id": "a6e4e329",
   "metadata": {},
   "outputs": [],
   "source": []
  }
 ],
 "metadata": {
  "kernelspec": {
   "display_name": ".venv",
   "language": "python",
   "name": "python3"
  },
  "language_info": {
   "codemirror_mode": {
    "name": "ipython",
    "version": 3
   },
   "file_extension": ".py",
   "mimetype": "text/x-python",
   "name": "python",
   "nbconvert_exporter": "python",
   "pygments_lexer": "ipython3",
   "version": "3.11.10"
  }
 },
 "nbformat": 4,
 "nbformat_minor": 5
}
